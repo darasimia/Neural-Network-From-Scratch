{
 "cells": [
  {
   "cell_type": "code",
   "execution_count": 2,
   "metadata": {},
   "outputs": [],
   "source": [
    "import numpy as np\n",
    "import pandas as pd\n",
    "from matplotlib import pyplot as plt"
   ]
  },
  {
   "cell_type": "code",
   "execution_count": 3,
   "metadata": {},
   "outputs": [],
   "source": [
    "data = pd.read_csv(\"/Users/darasimiadeyemo/iuts/nnfs/digit-recognizer/train.csv\")"
   ]
  },
  {
   "cell_type": "code",
   "execution_count": 4,
   "metadata": {},
   "outputs": [],
   "source": [
    "data = np.array(data)\n",
    "m,n = data.shape\n",
    "np.random.shuffle(data)"
   ]
  },
  {
   "cell_type": "code",
   "execution_count": 5,
   "metadata": {},
   "outputs": [],
   "source": [
    "data = np.array(data)\n",
    "m, n = data.shape\n",
    "np.random.shuffle(data) \n",
    "\n",
    "data_dev = data[0:1000].T\n",
    "Y_dev = data_dev[0]\n",
    "X_dev = data_dev[1:n]\n",
    "X_dev = X_dev / 255.\n",
    "\n",
    "data_train = data[1000:m].T\n",
    "Y_train = data_train[0]\n",
    "X_train = data_train[1:n]\n",
    "X_train = X_train / 255.\n",
    "_,m_train = X_train.shape"
   ]
  },
  {
   "cell_type": "code",
   "execution_count": 6,
   "metadata": {},
   "outputs": [],
   "source": [
    "def init_params():\n",
    "    W1 = np.random.rand(10, 784) - 0.5\n",
    "    b1 = np.random.rand(10, 1) - 0.5\n",
    "    W2 = np.random.rand(10, 10) - 0.5\n",
    "    b2 = np.random.rand(10, 1) - 0.5\n",
    "    return W1, b1, W2, b2\n",
    "\n",
    "def ReLU(Z):\n",
    "    return np.maximum(Z, 0)\n",
    "\n",
    "def softmax(Z):\n",
    "    A = np.exp(Z) / sum(np.exp(Z))\n",
    "    return A\n",
    "    \n",
    "def forward_prop(W1, b1, W2, b2, X):\n",
    "    Z1 = W1.dot(X) + b1\n",
    "    A1 = ReLU(Z1)\n",
    "    Z2 = W2.dot(A1) + b2\n",
    "    A2 = softmax(Z2)\n",
    "    return Z1, A1, Z2, A2\n",
    "\n",
    "def ReLU_deriv(Z):\n",
    "    return Z > 0\n",
    "\n",
    "def one_hot(Y):\n",
    "    one_hot_Y = np.zeros((Y.size, Y.max() + 1))\n",
    "    one_hot_Y[np.arange(Y.size), Y] = 1\n",
    "    one_hot_Y = one_hot_Y.T\n",
    "    return one_hot_Y\n",
    "\n",
    "def backward_prop(Z1, A1, Z2, A2, W1, W2, X, Y):\n",
    "    one_hot_Y = one_hot(Y)\n",
    "    dZ2 = A2 - one_hot_Y\n",
    "    dW2 = 1 / m * dZ2.dot(A1.T)\n",
    "    db2 = 1 / m * np.sum(dZ2)\n",
    "    dZ1 = W2.T.dot(dZ2) * ReLU_deriv(Z1)\n",
    "    dW1 = 1 / m * dZ1.dot(X.T)\n",
    "    db1 = 1 / m * np.sum(dZ1)\n",
    "    return dW1, db1, dW2, db2\n",
    "\n",
    "def update_params(W1, b1, W2, b2, dW1, db1, dW2, db2, alpha):\n",
    "    W1 = W1 - alpha * dW1\n",
    "    b1 = b1 - alpha * db1    \n",
    "    W2 = W2 - alpha * dW2  \n",
    "    b2 = b2 - alpha * db2    \n",
    "    return W1, b1, W2, b2"
   ]
  },
  {
   "cell_type": "code",
   "execution_count": 7,
   "metadata": {},
   "outputs": [],
   "source": [
    "def get_predictions(A2):\n",
    "    return np.argmax(A2, 0)\n",
    "\n",
    "def get_accuracy(predictions, Y):\n",
    "    print(predictions, Y)\n",
    "    return np.sum(predictions == Y) / Y.size\n",
    "\n",
    "def gradient_descent(X, Y, alpha, iterations):\n",
    "    W1, b1, W2, b2 = init_params()\n",
    "    for i in range(iterations):\n",
    "        Z1, A1, Z2, A2 = forward_prop(W1, b1, W2, b2, X)\n",
    "        dW1, db1, dW2, db2 = backward_prop(Z1, A1, Z2, A2, W1, W2, X, Y)\n",
    "        W1, b1, W2, b2 = update_params(W1, b1, W2, b2, dW1, db1, dW2, db2, alpha)\n",
    "        if i % 10 == 0:\n",
    "            print(\"Iteration: \", i)\n",
    "            predictions = get_predictions(A2)\n",
    "            print(get_accuracy(predictions, Y))\n",
    "    return W1, b1, W2, b2"
   ]
  },
  {
   "cell_type": "code",
   "execution_count": 8,
   "metadata": {},
   "outputs": [
    {
     "name": "stdout",
     "output_type": "stream",
     "text": [
      "Iteration:  0\n",
      "[3 2 3 ... 2 3 3] [7 9 9 ... 8 0 8]\n",
      "0.1275609756097561\n",
      "Iteration:  10\n",
      "[3 2 2 ... 2 3 4] [7 9 9 ... 8 0 8]\n",
      "0.16958536585365855\n",
      "Iteration:  20\n",
      "[2 4 2 ... 2 0 4] [7 9 9 ... 8 0 8]\n",
      "0.25285365853658537\n",
      "Iteration:  30\n",
      "[3 4 7 ... 2 0 7] [7 9 9 ... 8 0 8]\n",
      "0.3092439024390244\n",
      "Iteration:  40\n",
      "[7 4 7 ... 2 0 1] [7 9 9 ... 8 0 8]\n",
      "0.36517073170731706\n",
      "Iteration:  50\n",
      "[7 4 9 ... 2 0 1] [7 9 9 ... 8 0 8]\n",
      "0.4135121951219512\n",
      "Iteration:  60\n",
      "[7 6 9 ... 1 0 1] [7 9 9 ... 8 0 8]\n",
      "0.45458536585365855\n",
      "Iteration:  70\n",
      "[7 9 9 ... 2 0 1] [7 9 9 ... 8 0 8]\n",
      "0.48921951219512194\n",
      "Iteration:  80\n",
      "[7 9 9 ... 2 0 1] [7 9 9 ... 8 0 8]\n",
      "0.5226585365853659\n",
      "Iteration:  90\n",
      "[7 9 9 ... 2 0 1] [7 9 9 ... 8 0 8]\n",
      "0.5490487804878049\n",
      "Iteration:  100\n",
      "[9 9 9 ... 6 0 1] [7 9 9 ... 8 0 8]\n",
      "0.5713170731707317\n",
      "Iteration:  110\n",
      "[9 9 9 ... 6 0 1] [7 9 9 ... 8 0 8]\n",
      "0.5936341463414634\n",
      "Iteration:  120\n",
      "[9 9 9 ... 6 0 1] [7 9 9 ... 8 0 8]\n",
      "0.6138048780487805\n",
      "Iteration:  130\n",
      "[9 9 9 ... 6 0 1] [7 9 9 ... 8 0 8]\n",
      "0.6315609756097561\n",
      "Iteration:  140\n",
      "[9 9 9 ... 6 0 1] [7 9 9 ... 8 0 8]\n",
      "0.6465853658536586\n",
      "Iteration:  150\n",
      "[7 9 9 ... 6 0 1] [7 9 9 ... 8 0 8]\n",
      "0.6604878048780488\n",
      "Iteration:  160\n",
      "[7 9 9 ... 6 0 1] [7 9 9 ... 8 0 8]\n",
      "0.6735121951219513\n",
      "Iteration:  170\n",
      "[7 9 9 ... 6 0 1] [7 9 9 ... 8 0 8]\n",
      "0.6847073170731708\n",
      "Iteration:  180\n",
      "[7 9 9 ... 6 0 1] [7 9 9 ... 8 0 8]\n",
      "0.694390243902439\n",
      "Iteration:  190\n",
      "[7 9 9 ... 6 0 8] [7 9 9 ... 8 0 8]\n",
      "0.7029512195121951\n",
      "Iteration:  200\n",
      "[7 9 9 ... 6 0 8] [7 9 9 ... 8 0 8]\n",
      "0.7125853658536585\n",
      "Iteration:  210\n",
      "[7 9 9 ... 6 0 8] [7 9 9 ... 8 0 8]\n",
      "0.7214390243902439\n",
      "Iteration:  220\n",
      "[7 9 9 ... 6 0 8] [7 9 9 ... 8 0 8]\n",
      "0.7297560975609756\n",
      "Iteration:  230\n",
      "[7 9 9 ... 6 0 8] [7 9 9 ... 8 0 8]\n",
      "0.7357317073170732\n",
      "Iteration:  240\n",
      "[7 9 9 ... 6 0 8] [7 9 9 ... 8 0 8]\n",
      "0.7411219512195122\n",
      "Iteration:  250\n",
      "[7 9 9 ... 6 0 8] [7 9 9 ... 8 0 8]\n",
      "0.7470487804878049\n",
      "Iteration:  260\n",
      "[7 9 9 ... 8 0 8] [7 9 9 ... 8 0 8]\n",
      "0.7525853658536585\n",
      "Iteration:  270\n",
      "[7 9 9 ... 8 0 8] [7 9 9 ... 8 0 8]\n",
      "0.7580975609756098\n",
      "Iteration:  280\n",
      "[7 9 9 ... 8 0 8] [7 9 9 ... 8 0 8]\n",
      "0.7631219512195122\n",
      "Iteration:  290\n",
      "[7 9 9 ... 8 0 8] [7 9 9 ... 8 0 8]\n",
      "0.7681219512195122\n",
      "Iteration:  300\n",
      "[7 9 9 ... 8 0 8] [7 9 9 ... 8 0 8]\n",
      "0.7729512195121951\n",
      "Iteration:  310\n",
      "[7 9 9 ... 8 0 8] [7 9 9 ... 8 0 8]\n",
      "0.7777317073170732\n",
      "Iteration:  320\n",
      "[7 9 9 ... 8 0 8] [7 9 9 ... 8 0 8]\n",
      "0.7825121951219512\n",
      "Iteration:  330\n",
      "[7 9 9 ... 8 0 8] [7 9 9 ... 8 0 8]\n",
      "0.7867804878048781\n",
      "Iteration:  340\n",
      "[7 9 9 ... 8 0 8] [7 9 9 ... 8 0 8]\n",
      "0.7904390243902439\n",
      "Iteration:  350\n",
      "[7 9 9 ... 8 0 8] [7 9 9 ... 8 0 8]\n",
      "0.7937804878048781\n",
      "Iteration:  360\n",
      "[7 9 9 ... 8 0 8] [7 9 9 ... 8 0 8]\n",
      "0.7970243902439025\n",
      "Iteration:  370\n",
      "[7 9 9 ... 8 0 8] [7 9 9 ... 8 0 8]\n",
      "0.7997073170731708\n",
      "Iteration:  380\n",
      "[7 9 9 ... 8 0 8] [7 9 9 ... 8 0 8]\n",
      "0.8029024390243903\n",
      "Iteration:  390\n",
      "[7 9 9 ... 8 0 8] [7 9 9 ... 8 0 8]\n",
      "0.806609756097561\n",
      "Iteration:  400\n",
      "[7 9 9 ... 8 0 8] [7 9 9 ... 8 0 8]\n",
      "0.809829268292683\n",
      "Iteration:  410\n",
      "[7 9 9 ... 8 0 8] [7 9 9 ... 8 0 8]\n",
      "0.8121219512195123\n",
      "Iteration:  420\n",
      "[7 9 9 ... 8 0 8] [7 9 9 ... 8 0 8]\n",
      "0.8147560975609756\n",
      "Iteration:  430\n",
      "[7 9 9 ... 8 0 8] [7 9 9 ... 8 0 8]\n",
      "0.817170731707317\n",
      "Iteration:  440\n",
      "[7 9 9 ... 8 0 8] [7 9 9 ... 8 0 8]\n",
      "0.819560975609756\n",
      "Iteration:  450\n",
      "[7 9 9 ... 8 0 8] [7 9 9 ... 8 0 8]\n",
      "0.8219756097560975\n",
      "Iteration:  460\n",
      "[7 9 9 ... 8 0 8] [7 9 9 ... 8 0 8]\n",
      "0.8245365853658536\n",
      "Iteration:  470\n",
      "[7 9 9 ... 8 0 8] [7 9 9 ... 8 0 8]\n",
      "0.8267317073170731\n",
      "Iteration:  480\n",
      "[7 9 9 ... 8 0 8] [7 9 9 ... 8 0 8]\n",
      "0.8289024390243902\n",
      "Iteration:  490\n",
      "[7 9 9 ... 8 0 8] [7 9 9 ... 8 0 8]\n",
      "0.8307560975609756\n"
     ]
    }
   ],
   "source": [
    "W1, b1, W2, b2 = gradient_descent(X_train, Y_train, 0.10, 500)"
   ]
  },
  {
   "cell_type": "code",
   "execution_count": 12,
   "metadata": {},
   "outputs": [],
   "source": [
    "def make_predictions(X, W1, b1, W2, b2):\n",
    "    _, _, _, A2 = forward_prop(W1, b1, W2, b2, X)\n",
    "    predictions = get_predictions(A2)\n",
    "    return predictions\n",
    "\n",
    "def test_prediction(index, W1, b1, W2, b2):\n",
    "    current_image = X_train[:, index, None]\n",
    "    prediction = make_predictions(X_train[:, index, None], W1, b1, W2, b2)\n",
    "    label = Y_train[index]\n",
    "    print(\"Prediction: \", prediction)\n",
    "    print(\"Label: \", label)\n",
    "\n",
    "    current_image = current_image.reshape((28, 28)) * 255\n",
    "    plt.gray()\n",
    "    plt.imshow(current_image, interpolation='nearest')\n",
    "    plt.show()"
   ]
  },
  {
   "cell_type": "code",
   "execution_count": 13,
   "metadata": {},
   "outputs": [
    {
     "name": "stdout",
     "output_type": "stream",
     "text": [
      "Prediction:  [7]\n",
      "Label:  7\n"
     ]
    },
    {
     "data": {
      "image/png": "[encoded data removed]",
      "text/plain": [
       "<Figure size 640x480 with 1 Axes>"
      ]
     },
     "metadata": {},
     "output_type": "display_data"
    },
    {
     "name": "stdout",
     "output_type": "stream",
     "text": [
      "Prediction:  [9]\n",
      "Label:  9\n"
     ]
    },
    {
     "data": {
      "image/png": "[encoded data removed]",
      "text/plain": [
       "<Figure size 640x480 with 1 Axes>"
      ]
     },
     "metadata": {},
     "output_type": "display_data"
    },
    {
     "name": "stdout",
     "output_type": "stream",
     "text": [
      "Prediction:  [9]\n",
      "Label:  9\n"
     ]
    },
    {
     "data": {
      "image/png": "[encoded data removed]",
      "text/plain": [
       "<Figure size 640x480 with 1 Axes>"
      ]
     },
     "metadata": {},
     "output_type": "display_data"
    },
    {
     "name": "stdout",
     "output_type": "stream",
     "text": [
      "Prediction:  [3]\n",
      "Label:  3\n"
     ]
    },
    {
     "data": {
      "image/png": "[encoded data removed]",
      "text/plain": [
       "<Figure size 640x480 with 1 Axes>"
      ]
     },
     "metadata": {},
     "output_type": "display_data"
    }
   ],
   "source": [
    "test_prediction(0, W1, b1, W2, b2)\n",
    "test_prediction(1, W1, b1, W2, b2)\n",
    "test_prediction(2, W1, b1, W2, b2)\n",
    "test_prediction(3, W1, b1, W2, b2)"
   ]
  },
  {
   "cell_type": "code",
   "execution_count": null,
   "metadata": {},
   "outputs": [],
   "source": []
  }
 ],
 "metadata": {
  "kernelspec": {
   "display_name": "Python 3",
   "language": "python",
   "name": "python3"
  },
  "language_info": {
   "codemirror_mode": {
    "name": "ipython",
    "version": 3
   },
   "file_extension": ".py",
   "mimetype": "text/x-python",
   "name": "python",
   "nbconvert_exporter": "python",
   "pygments_lexer": "ipython3",
   "version": "3.12.0"
  }
 },
 "nbformat": 4,
 "nbformat_minor": 2
}
